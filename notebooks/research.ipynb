{
 "cells": [
  {
   "cell_type": "code",
   "execution_count": 1,
   "metadata": {},
   "outputs": [],
   "source": [
    "def evaluate_model(X_train,y_train,X_test,y_test,models):\n",
    "    try:\n",
    "        report = {}\n",
    "        for i in range(len(models)):\n",
    "            model = list(models.values())[i]\n",
    "            # Train model\n",
    "            model.fit(X_train,y_train)\n",
    "\n",
    "            \n",
    "\n",
    "            # Predict Testing data\n",
    "            y_test_pred =model.predict(X_test)\n",
    "\n",
    "            # Get R2 scores for train and test data\n",
    "            #train_model_score = r2_score(ytrain,y_train_pred)\n",
    "            test_model_score = r2_score(y_test,y_test_pred)\n",
    "\n",
    "            report[list(models.keys())[i]] =  test_model_score\n",
    "\n",
    "        return report\n",
    "\n",
    "    except Exception as e:\n",
    "        logging.info('Exception occured during model training')\n",
    "        raise customexception(e,sys)\n",
    "    \n",
    "    "
   ]
  },
  {
   "cell_type": "code",
   "execution_count": null,
   "metadata": {},
   "outputs": [],
   "source": []
  }
 ],
 "metadata": {
  "kernelspec": {
   "display_name": "base",
   "language": "python",
   "name": "python3"
  },
  "language_info": {
   "codemirror_mode": {
    "name": "ipython",
    "version": 3
   },
   "file_extension": ".py",
   "mimetype": "text/x-python",
   "name": "python",
   "nbconvert_exporter": "python",
   "pygments_lexer": "ipython3",
   "version": "3.11.7"
  }
 },
 "nbformat": 4,
 "nbformat_minor": 2
}
